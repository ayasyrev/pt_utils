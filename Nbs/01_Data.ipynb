{
 "cells": [
  {
   "cell_type": "markdown",
   "id": "88ee7734",
   "metadata": {},
   "source": [
    "# Data"
   ]
  },
  {
   "cell_type": "code",
   "execution_count": 18,
   "id": "d12297fd",
   "metadata": {
    "ExecuteTime": {
     "end_time": "2021-11-03T13:18:32.431758Z",
     "start_time": "2021-11-03T13:18:32.424932Z"
    }
   },
   "outputs": [],
   "source": [
    "from pt_utils.data.image_folder_dataset import ImageFolderDataset\n",
    "from pt_utils.transforms.base_transforms import train_transforms, val_transforms\n",
    "from pathlib import Path\n",
    "from torch.utils.data import DataLoader\n"
   ]
  },
  {
   "cell_type": "code",
   "execution_count": 13,
   "id": "13e69219",
   "metadata": {
    "ExecuteTime": {
     "end_time": "2021-11-03T13:16:32.200499Z",
     "start_time": "2021-11-03T13:16:32.194225Z"
    }
   },
   "outputs": [],
   "source": [
    "data_path = Path('/Data/imagenette2-320/')\n",
    "size = 128\n",
    "train_img_scale=(0.35, 1)\n",
    "extra_size = 32"
   ]
  },
  {
   "cell_type": "markdown",
   "id": "fff4f64d",
   "metadata": {},
   "source": []
  },
  {
   "cell_type": "code",
   "execution_count": null,
   "id": "88ac0912",
   "metadata": {},
   "outputs": [],
   "source": [
    "# in fastai extra_size set by RandomResizedCrop, val_xtra=0.14\n",
    "# val_xtra=0.14\n",
    "# xtra = math.ceil(max(*self.size[:2])*self.val_xtra/8)*8\n",
    "# 128 -> 24\n",
    "# 192 -> 32\n",
    "# 256 -> 40"
   ]
  },
  {
   "cell_type": "code",
   "execution_count": 8,
   "id": "0aed4d90",
   "metadata": {
    "ExecuteTime": {
     "end_time": "2021-11-03T13:14:02.577715Z",
     "start_time": "2021-11-03T13:14:02.454644Z"
    }
   },
   "outputs": [],
   "source": [
    "train_ds = ImageFolderDataset(root=data_path / 'train',\n",
    "                              transform=train_transforms(image_size=size, train_img_scale=train_img_scale))"
   ]
  },
  {
   "cell_type": "code",
   "execution_count": 9,
   "id": "3b925f53",
   "metadata": {
    "ExecuteTime": {
     "end_time": "2021-11-03T13:14:05.876002Z",
     "start_time": "2021-11-03T13:14:05.866698Z"
    }
   },
   "outputs": [
    {
     "data": {
      "text/plain": [
       "<pt_utils.data.image_folder_dataset.ImageFolderDataset at 0x7f0a48e59040>"
      ]
     },
     "execution_count": 9,
     "metadata": {},
     "output_type": "execute_result"
    }
   ],
   "source": [
    "train_ds"
   ]
  },
  {
   "cell_type": "code",
   "execution_count": 10,
   "id": "aa5a32f9",
   "metadata": {
    "ExecuteTime": {
     "end_time": "2021-11-03T13:14:40.406293Z",
     "start_time": "2021-11-03T13:14:40.397265Z"
    }
   },
   "outputs": [
    {
     "data": {
      "text/plain": [
       "9469"
      ]
     },
     "execution_count": 10,
     "metadata": {},
     "output_type": "execute_result"
    }
   ],
   "source": [
    "len(train_ds)"
   ]
  },
  {
   "cell_type": "code",
   "execution_count": 11,
   "id": "749d28d4",
   "metadata": {
    "ExecuteTime": {
     "end_time": "2021-11-03T13:15:11.122019Z",
     "start_time": "2021-11-03T13:15:11.117555Z"
    }
   },
   "outputs": [
    {
     "data": {
      "text/plain": [
       "[('/Data/imagenette2-320/train/n02979186/n02979186_10864.JPEG', 2),\n",
       " ('/Data/imagenette2-320/train/n02979186/n02979186_2163.JPEG', 2),\n",
       " ('/Data/imagenette2-320/train/n02979186/n02979186_13427.JPEG', 2),\n",
       " ('/Data/imagenette2-320/train/n02979186/ILSVRC2012_val_00029663.JPEG', 2),\n",
       " ('/Data/imagenette2-320/train/n02979186/n02979186_5779.JPEG', 2)]"
      ]
     },
     "execution_count": 11,
     "metadata": {},
     "output_type": "execute_result"
    }
   ],
   "source": [
    "train_ds.samples[:5]"
   ]
  },
  {
   "cell_type": "code",
   "execution_count": 14,
   "id": "ce9547fb",
   "metadata": {
    "ExecuteTime": {
     "end_time": "2021-11-03T13:16:37.748372Z",
     "start_time": "2021-11-03T13:16:37.659875Z"
    }
   },
   "outputs": [],
   "source": [
    "val_ds = ImageFolderDataset(root=data_path / 'val',\n",
    "                            transform=val_transforms(image_size=size, extra_size=extra_size))"
   ]
  },
  {
   "cell_type": "code",
   "execution_count": 15,
   "id": "ca801959",
   "metadata": {
    "ExecuteTime": {
     "end_time": "2021-11-03T13:16:41.205207Z",
     "start_time": "2021-11-03T13:16:41.197010Z"
    }
   },
   "outputs": [
    {
     "data": {
      "text/plain": [
       "<pt_utils.data.image_folder_dataset.ImageFolderDataset at 0x7f0a48d4aa60>"
      ]
     },
     "execution_count": 15,
     "metadata": {},
     "output_type": "execute_result"
    }
   ],
   "source": [
    "val_ds"
   ]
  },
  {
   "cell_type": "code",
   "execution_count": 16,
   "id": "7eb1d226",
   "metadata": {
    "ExecuteTime": {
     "end_time": "2021-11-03T13:16:47.067744Z",
     "start_time": "2021-11-03T13:16:47.059707Z"
    }
   },
   "outputs": [
    {
     "data": {
      "text/plain": [
       "3925"
      ]
     },
     "execution_count": 16,
     "metadata": {},
     "output_type": "execute_result"
    }
   ],
   "source": [
    "len(val_ds)"
   ]
  },
  {
   "cell_type": "code",
   "execution_count": 17,
   "id": "e82eb485",
   "metadata": {
    "ExecuteTime": {
     "end_time": "2021-11-03T13:16:55.153578Z",
     "start_time": "2021-11-03T13:16:55.144328Z"
    }
   },
   "outputs": [
    {
     "data": {
      "text/plain": [
       "[('/Data/imagenette2-320/val/n02979186/n02979186_1061.JPEG', 2),\n",
       " ('/Data/imagenette2-320/val/n02979186/n02979186_5481.JPEG', 2),\n",
       " ('/Data/imagenette2-320/val/n02979186/n02979186_10151.JPEG', 2),\n",
       " ('/Data/imagenette2-320/val/n02979186/n02979186_2051.JPEG', 2),\n",
       " ('/Data/imagenette2-320/val/n02979186/n02979186_24941.JPEG', 2)]"
      ]
     },
     "execution_count": 17,
     "metadata": {},
     "output_type": "execute_result"
    }
   ],
   "source": [
    "val_ds.samples[:5]"
   ]
  },
  {
   "cell_type": "code",
   "execution_count": 26,
   "id": "d916cf87",
   "metadata": {
    "ExecuteTime": {
     "end_time": "2021-11-03T13:22:37.140664Z",
     "start_time": "2021-11-03T13:22:37.135418Z"
    }
   },
   "outputs": [],
   "source": [
    "train_dl = DataLoader(dataset=train_ds,\n",
    "                     batch_size=32,\n",
    "                     num_workers=4,\n",
    "                     pin_memory=True,\n",
    "                     shuffle=True,\n",
    "                     drop_last=True,\n",
    "                     persistent_workers=True)"
   ]
  },
  {
   "cell_type": "code",
   "execution_count": 27,
   "id": "d43b3626",
   "metadata": {
    "ExecuteTime": {
     "end_time": "2021-11-03T13:22:37.400364Z",
     "start_time": "2021-11-03T13:22:37.390556Z"
    }
   },
   "outputs": [
    {
     "data": {
      "text/plain": [
       "295"
      ]
     },
     "execution_count": 27,
     "metadata": {},
     "output_type": "execute_result"
    }
   ],
   "source": [
    "len(train_dl)"
   ]
  },
  {
   "cell_type": "code",
   "execution_count": 24,
   "id": "a272ddb6",
   "metadata": {
    "ExecuteTime": {
     "end_time": "2021-11-03T13:22:20.982386Z",
     "start_time": "2021-11-03T13:22:06.510644Z"
    }
   },
   "outputs": [],
   "source": [
    "for batch in train_dl:\n",
    "    pass"
   ]
  },
  {
   "cell_type": "code",
   "execution_count": 25,
   "id": "3222738a",
   "metadata": {
    "ExecuteTime": {
     "end_time": "2021-11-03T13:22:33.618936Z",
     "start_time": "2021-11-03T13:22:20.983673Z"
    }
   },
   "outputs": [],
   "source": [
    "for batch in train_dl:\n",
    "    pass"
   ]
  },
  {
   "cell_type": "code",
   "execution_count": 28,
   "id": "5e9997aa",
   "metadata": {
    "ExecuteTime": {
     "end_time": "2021-11-03T13:22:53.005661Z",
     "start_time": "2021-11-03T13:22:40.386588Z"
    }
   },
   "outputs": [],
   "source": [
    "for batch in train_dl:\n",
    "    pass"
   ]
  },
  {
   "cell_type": "code",
   "execution_count": 30,
   "id": "b485057c",
   "metadata": {
    "ExecuteTime": {
     "end_time": "2021-11-03T13:23:25.007549Z",
     "start_time": "2021-11-03T13:23:12.430938Z"
    }
   },
   "outputs": [],
   "source": [
    "for batch in train_dl:\n",
    "    pass"
   ]
  },
  {
   "cell_type": "code",
   "execution_count": 32,
   "id": "6952ad1c",
   "metadata": {
    "ExecuteTime": {
     "end_time": "2021-11-03T13:34:22.684648Z",
     "start_time": "2021-11-03T13:34:22.679223Z"
    }
   },
   "outputs": [
    {
     "data": {
      "text/plain": [
       "Compose(\n",
       "    RandomResizedCrop(size=(128, 128), scale=(0.35, 1), ratio=(0.75, 1.3333), interpolation=bilinear)\n",
       "    RandomHorizontalFlip(p=0.5)\n",
       "    ToTensor()\n",
       "    Normalize(mean=[0.485, 0.456, 0.406], std=[0.229, 0.224, 0.225])\n",
       ")"
      ]
     },
     "execution_count": 32,
     "metadata": {},
     "output_type": "execute_result"
    }
   ],
   "source": [
    "train_dl.dataset.transform"
   ]
  },
  {
   "cell_type": "code",
   "execution_count": 33,
   "id": "b021b703",
   "metadata": {
    "ExecuteTime": {
     "end_time": "2021-11-03T13:40:31.381145Z",
     "start_time": "2021-11-03T13:40:31.368985Z"
    }
   },
   "outputs": [
    {
     "ename": "ValueError",
     "evalue": "dataset attribute should not be set after DataLoader is initialized",
     "output_type": "error",
     "traceback": [
      "\u001b[0;31m---------------------------------------------------------------------------\u001b[0m",
      "\u001b[0;31mValueError\u001b[0m                                Traceback (most recent call last)",
      "\u001b[0;32m<ipython-input-33-756c103c6b5f>\u001b[0m in \u001b[0;36m<module>\u001b[0;34m\u001b[0m\n\u001b[0;32m----> 1\u001b[0;31m \u001b[0mtrain_dl\u001b[0m\u001b[0;34m.\u001b[0m\u001b[0mdataset\u001b[0m \u001b[0;34m=\u001b[0m \u001b[0mval_transforms\u001b[0m\u001b[0;34m(\u001b[0m\u001b[0mimage_size\u001b[0m\u001b[0;34m=\u001b[0m\u001b[0msize\u001b[0m\u001b[0;34m,\u001b[0m \u001b[0mextra_size\u001b[0m\u001b[0;34m=\u001b[0m\u001b[0;36m32\u001b[0m\u001b[0;34m)\u001b[0m\u001b[0;34m\u001b[0m\u001b[0;34m\u001b[0m\u001b[0m\n\u001b[0m",
      "\u001b[0;32m~/anaconda3/envs/pt_19/lib/python3.8/site-packages/torch/utils/data/dataloader.py\u001b[0m in \u001b[0;36m__setattr__\u001b[0;34m(self, attr, val)\u001b[0m\n\u001b[1;32m    337\u001b[0m         if self.__initialized and attr in (\n\u001b[1;32m    338\u001b[0m                 'batch_size', 'batch_sampler', 'sampler', 'drop_last', 'dataset', 'persistent_workers'):\n\u001b[0;32m--> 339\u001b[0;31m             raise ValueError('{} attribute should not be set after {} is '\n\u001b[0m\u001b[1;32m    340\u001b[0m                              'initialized'.format(attr, self.__class__.__name__))\n\u001b[1;32m    341\u001b[0m \u001b[0;34m\u001b[0m\u001b[0m\n",
      "\u001b[0;31mValueError\u001b[0m: dataset attribute should not be set after DataLoader is initialized"
     ]
    }
   ],
   "source": [
    "train_dl.dataset = val_transforms(image_size=size, extra_size=32)"
   ]
  },
  {
   "cell_type": "code",
   "execution_count": 34,
   "id": "05816a48",
   "metadata": {
    "ExecuteTime": {
     "end_time": "2021-11-03T13:54:36.884160Z",
     "start_time": "2021-11-03T13:54:36.878908Z"
    }
   },
   "outputs": [],
   "source": [
    "import math"
   ]
  },
  {
   "cell_type": "code",
   "execution_count": 39,
   "id": "8c6daa18",
   "metadata": {
    "ExecuteTime": {
     "end_time": "2021-11-03T13:58:55.404781Z",
     "start_time": "2021-11-03T13:58:55.394956Z"
    }
   },
   "outputs": [
    {
     "data": {
      "text/plain": [
       "40"
      ]
     },
     "execution_count": 39,
     "metadata": {},
     "output_type": "execute_result"
    }
   ],
   "source": [
    "size = 256\n",
    "val_xtra = 0.14\n",
    "xtra = math.ceil(size*val_xtra/8)*8\n",
    "xtra"
   ]
  },
  {
   "cell_type": "markdown",
   "id": "ca5e03d3",
   "metadata": {},
   "source": [
    "# tst"
   ]
  },
  {
   "cell_type": "code",
   "execution_count": 41,
   "id": "31ead7f1",
   "metadata": {
    "ExecuteTime": {
     "end_time": "2021-11-05T09:13:31.136810Z",
     "start_time": "2021-11-05T09:13:31.133792Z"
    }
   },
   "outputs": [],
   "source": [
    "from pathlib import Path\n",
    "import os"
   ]
  },
  {
   "cell_type": "code",
   "execution_count": 42,
   "id": "14975485",
   "metadata": {
    "ExecuteTime": {
     "end_time": "2021-11-05T09:13:39.974536Z",
     "start_time": "2021-11-05T09:13:39.970022Z"
    }
   },
   "outputs": [
    {
     "data": {
      "text/plain": [
       "'/home/jzz/Prj/pt_utils/Nbs'"
      ]
     },
     "execution_count": 42,
     "metadata": {},
     "output_type": "execute_result"
    }
   ],
   "source": [
    "os.getcwd()"
   ]
  },
  {
   "cell_type": "code",
   "execution_count": 43,
   "id": "f8d5e474",
   "metadata": {
    "ExecuteTime": {
     "end_time": "2021-11-05T09:14:48.702603Z",
     "start_time": "2021-11-05T09:14:48.698114Z"
    }
   },
   "outputs": [
    {
     "data": {
      "text/plain": [
       "PosixPath('/home/jzz/Prj/pt_utils/Nbs')"
      ]
     },
     "execution_count": 43,
     "metadata": {},
     "output_type": "execute_result"
    }
   ],
   "source": [
    "Path.cwd()"
   ]
  },
  {
   "cell_type": "code",
   "execution_count": null,
   "id": "112b347e",
   "metadata": {},
   "outputs": [],
   "source": []
  }
 ],
 "metadata": {
  "kernelspec": {
   "display_name": "Python 3",
   "language": "python",
   "name": "python3"
  },
  "language_info": {
   "codemirror_mode": {
    "name": "ipython",
    "version": 3
   },
   "file_extension": ".py",
   "mimetype": "text/x-python",
   "name": "python",
   "nbconvert_exporter": "python",
   "pygments_lexer": "ipython3",
   "version": "3.8.10"
  },
  "toc": {
   "base_numbering": 1,
   "nav_menu": {},
   "number_sections": true,
   "sideBar": true,
   "skip_h1_title": false,
   "title_cell": "Table of Contents",
   "title_sidebar": "Contents",
   "toc_cell": false,
   "toc_position": {},
   "toc_section_display": true,
   "toc_window_display": true
  }
 },
 "nbformat": 4,
 "nbformat_minor": 5
}
